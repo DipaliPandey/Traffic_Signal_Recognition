{
 "cells": [
  {
   "cell_type": "markdown",
   "id": "d210dcbc",
   "metadata": {},
   "source": [
    "# Traffic Signal Recognition\n",
    "## Aadvanced Machine Learning - Fall 2021\n",
    "#### Brent Hensley, Dipali Pandey, Mahika Bansal, Sahil Natu, Sahitya Vijayanagar"
   ]
  },
  {
   "cell_type": "markdown",
   "id": "5719a079",
   "metadata": {},
   "source": [
    "### Install Libraries"
   ]
  },
  {
   "cell_type": "code",
   "execution_count": null,
   "id": "04a42a4f",
   "metadata": {},
   "outputs": [],
   "source": [
    "#pip install tensorflow keras sklearn matplotlib pandas opencv-python pillow"
   ]
  },
  {
   "cell_type": "markdown",
   "id": "644e7b3e",
   "metadata": {},
   "source": [
    "### Import Libraries"
   ]
  },
  {
   "cell_type": "code",
   "execution_count": 2,
   "id": "008ac8cd",
   "metadata": {},
   "outputs": [],
   "source": [
    "import numpy as np \n",
    "import pandas as pd \n",
    "import matplotlib.pyplot as plt\n",
    "import cv2\n",
    "import tensorflow as tf\n",
    "from PIL import Image\n",
    "import os\n",
    "from sklearn.model_selection import train_test_split\n",
    "from tensorflow.keras.utils import to_categorical\n",
    "from keras.models import Sequential, load_model\n",
    "from keras.layers import Conv2D, MaxPool2D, Dense, Flatten, Dropout\n",
    "from sklearn.metrics import accuracy_score"
   ]
  },
  {
   "cell_type": "markdown",
   "id": "3e3c66c5",
   "metadata": {},
   "source": [
    "### Reading Image Data"
   ]
  },
  {
   "cell_type": "markdown",
   "id": "9f82b087",
   "metadata": {},
   "source": [
    "#### Dataset 1 - 43 features"
   ]
  },
  {
   "cell_type": "code",
   "execution_count": 16,
   "id": "dce5ea21",
   "metadata": {},
   "outputs": [
    {
     "name": "stdout",
     "output_type": "stream",
     "text": [
      "C:\\Users\\sahil\\Google Drive\\UT Austin\\College\\Fall\\Adv ML\\Project\n"
     ]
    }
   ],
   "source": [
    "data_1 = []\n",
    "labels_1 = []\n",
    "classes_1 = 43\n",
    "cur_path_1 = os.getcwd()\n",
    "print(cur_path_1)\n",
    "\n",
    "for i in range(classes_1):\n",
    "    path = os.path.join(cur_path_1,'data','Train',str(i))\n",
    "    images = os.listdir(path)\n",
    "    \n",
    "    for img in images:\n",
    "        if img.split('.')[1] in ['png','jpeg','jpg']:\n",
    "            try:\n",
    "                image = Image.open(path+'/'+img)\n",
    "                image = image.resize((30,30))\n",
    "                image = np.array(image)\n",
    "                data_1.append(image)\n",
    "                labels_1.append(i)\n",
    "            except:\n",
    "                print('Error loading image {0} from class {1}'.format(img,i))\n",
    "\n",
    "data_1 = np.array(data_1)\n",
    "labels_1 = np.array(labels_1)\n",
    "\n",
    "test_classes_1 = pd.read_csv(r'data/Test.csv')['ClassId']\n",
    "test_data_1 = []\n",
    "\n",
    "path = os.path.join(cur_path_1,'data','Test')\n",
    "images = os.listdir(path)\n",
    "    \n",
    "for img in images:\n",
    "    if img.split('.')[1] in ['png','jpeg','jpg']:\n",
    "        try:\n",
    "            image = Image.open(path+'/'+img)\n",
    "            image = image.resize((30,30))\n",
    "            image = np.array(image)\n",
    "            test_data_1.append(image)\n",
    "        except:\n",
    "            print('Error loading image {0}'.format(img))\n",
    "test_data_1 = np.array(test_data_1)\n",
    "test_classes_1 = np.array(test_classes_1)"
   ]
  },
  {
   "cell_type": "markdown",
   "id": "8fe492b7",
   "metadata": {},
   "source": [
    "#### Dataset 2 - 62 features"
   ]
  },
  {
   "cell_type": "code",
   "execution_count": 21,
   "id": "5b06bb98",
   "metadata": {},
   "outputs": [
    {
     "name": "stdout",
     "output_type": "stream",
     "text": [
      "C:\\Users\\sahil\\Google Drive\\UT Austin\\College\\Fall\\Adv ML\\Project\n"
     ]
    }
   ],
   "source": [
    "data_2 = []\n",
    "labels_2 = []\n",
    "classes_2 = 62\n",
    "cur_path_2 = os.getcwd()\n",
    "print(cur_path_2)\n",
    "\n",
    "for i in range(classes_2):\n",
    "    path = os.path.join(cur_path_2,'data2','Training',str(i).rjust(5,'0'))\n",
    "    images = os.listdir(path)\n",
    "    \n",
    "    for img in images:\n",
    "        if img.split('.')[1] in ['png','jpeg','jpg','ppm']:\n",
    "            try:\n",
    "                image = Image.open(path+'\\\\'+img)\n",
    "                image = image.resize((30,30))\n",
    "                image = np.array(image)\n",
    "                data_2.append(image)\n",
    "                labels_2.append(i)\n",
    "            except:\n",
    "                print('Error loading image {0} from class {1}'.format(img,i))\n",
    "\n",
    "data_2 = np.array(data_2)\n",
    "labels_2 = np.array(labels_2)\n",
    "\n",
    "test_classes_2 = []\n",
    "test_data_2 = []\n",
    "\n",
    "for i in range(classes_2):\n",
    "    path = os.path.join(cur_path_2,'data2','Testing',str(i).rjust(5,'0'))\n",
    "    images = os.listdir(path)\n",
    "    \n",
    "    for img in images:\n",
    "        if img.split('.')[1] in ['png','jpeg','jpg','ppm']:\n",
    "            try:\n",
    "                image = Image.open(path+'\\\\'+img)\n",
    "                image = image.resize((30,30))\n",
    "                image = np.array(image)\n",
    "                test_data_2.append(image)\n",
    "                test_classes_2.append(i)\n",
    "            except:\n",
    "                print('Error loading image {0} from class {1}'.format(img,i))\n",
    "test_classes_2 = np.array(test_classes_2)\n",
    "test_data_2 = np.array(test_data_2)"
   ]
  },
  {
   "cell_type": "markdown",
   "id": "4e838ba0",
   "metadata": {},
   "source": [
    "### Creating Training and Testing Sets"
   ]
  },
  {
   "cell_type": "markdown",
   "id": "7e93fe4c",
   "metadata": {},
   "source": [
    "#### Dataset 1 - 43 features"
   ]
  },
  {
   "cell_type": "code",
   "execution_count": 22,
   "id": "ddd4d0d5",
   "metadata": {},
   "outputs": [
    {
     "name": "stdout",
     "output_type": "stream",
     "text": [
      "Data and Labels:\n",
      "(39209, 30, 30, 3) (39209,)\n",
      "Training Data, Testing Data, Training Labels, Testing Labels:\n",
      "(31367, 30, 30, 3) (7842, 30, 30, 3) (31367,) (7842,)\n"
     ]
    }
   ],
   "source": [
    "print(\"Data and Labels:\")\n",
    "print(data_1.shape, labels_1.shape)\n",
    "\n",
    "# Splitting training and testing dataset\n",
    "X_train_1, X_test_1, y_train_1, y_test_1 = train_test_split(data_1, labels_1, test_size=0.2, random_state=1)\n",
    "print(\"Training Data, Testing Data, Training Labels, Testing Labels:\")\n",
    "print(X_train_1.shape, X_test_1.shape, y_train_1.shape, y_test_1.shape)\n",
    "\n",
    "# Transforming labels with one-hot encoding\n",
    "y_train_1 = to_categorical(y_train_1, 43)\n",
    "y_test_1 = to_categorical(y_test_1, 43)"
   ]
  },
  {
   "cell_type": "markdown",
   "id": "91f448ea",
   "metadata": {},
   "source": [
    "#### Dataset 2 - 62 features"
   ]
  },
  {
   "cell_type": "code",
   "execution_count": 23,
   "id": "bd22df12",
   "metadata": {},
   "outputs": [
    {
     "name": "stdout",
     "output_type": "stream",
     "text": [
      "Data and Labels:\n",
      "(4575, 30, 30, 3) (4575,)\n",
      "Training Data, Testing Data, Training Labels, Testing Labels:\n",
      "(3660, 30, 30, 3) (915, 30, 30, 3) (3660,) (915,)\n"
     ]
    }
   ],
   "source": [
    "print(\"Data and Labels:\")\n",
    "print(data_2.shape, labels_2.shape)\n",
    "\n",
    "# Splitting training and testing dataset\n",
    "X_train_2, X_test_2, y_train_2, y_test_2 = train_test_split(data_2, labels_2, test_size=0.2, random_state=1)\n",
    "print(\"Training Data, Testing Data, Training Labels, Testing Labels:\")\n",
    "print(X_train_2.shape, X_test_2.shape, y_train_2.shape, y_test_2.shape)\n",
    "\n",
    "# Transforming labels with one-hot encoding\n",
    "y_train_2 = to_categorical(y_train_2, 62)\n",
    "y_test_2 = to_categorical(y_test_2, 62)"
   ]
  },
  {
   "cell_type": "markdown",
   "id": "52a70b83",
   "metadata": {},
   "source": [
    "### Building CNN Models"
   ]
  },
  {
   "cell_type": "markdown",
   "id": "d00c8a85",
   "metadata": {},
   "source": [
    "#### Model 1 | 43 Features | 4 Layers"
   ]
  },
  {
   "cell_type": "code",
   "execution_count": 24,
   "id": "7503304f",
   "metadata": {},
   "outputs": [],
   "source": [
    "model_1 = Sequential()\n",
    "model_1.add(Conv2D(filters=32, kernel_size=(5,5), activation='relu', input_shape=X_train_1.shape[1:]))\n",
    "model_1.add(Conv2D(filters=32, kernel_size=(5,5), activation='relu'))\n",
    "model_1.add(MaxPool2D(pool_size=(2, 2)))\n",
    "model_1.add(Dropout(rate=0.25))\n",
    "model_1.add(Conv2D(filters=64, kernel_size=(3, 3), activation='relu'))\n",
    "model_1.add(Conv2D(filters=64, kernel_size=(3, 3), activation='relu'))\n",
    "model_1.add(MaxPool2D(pool_size=(2, 2)))\n",
    "model_1.add(Dropout(rate=0.25))\n",
    "model_1.add(Flatten())\n",
    "model_1.add(Dense(256, activation='relu'))\n",
    "model_1.add(Dropout(rate=0.5))\n",
    "model_1.add(Dense(43, activation='softmax'))\n",
    "\n",
    "model_1.compile(loss='categorical_crossentropy', optimizer='adam', metrics=['accuracy'])"
   ]
  },
  {
   "cell_type": "markdown",
   "id": "20367d2d",
   "metadata": {},
   "source": [
    "#### Model 2 | 43 Features | 3 Layers"
   ]
  },
  {
   "cell_type": "code",
   "execution_count": 25,
   "id": "bcfda089",
   "metadata": {},
   "outputs": [],
   "source": [
    "model_2 = Sequential()\n",
    "model_2.add(Conv2D(filters=32, kernel_size=(5,5), activation='relu', input_shape=X_train_1.shape[1:]))\n",
    "model_2.add(Conv2D(filters=32, kernel_size=(5,5), activation='relu'))\n",
    "model_2.add(Conv2D(filters=32, kernel_size=(3, 3), activation='relu'))\n",
    "model_2.add(MaxPool2D(pool_size=(2, 2)))\n",
    "model_2.add(Dropout(rate=0.25))\n",
    "model_2.add(Flatten())\n",
    "model_2.add(Dense(256, activation='relu'))\n",
    "model_2.add(Dropout(rate=0.5))\n",
    "model_2.add(Dense(43, activation='softmax'))\n",
    "\n",
    "model_2.compile(loss='categorical_crossentropy', optimizer='adam', metrics=['accuracy'])"
   ]
  },
  {
   "cell_type": "markdown",
   "id": "916d6b5b",
   "metadata": {},
   "source": [
    "#### Model 3 | 43 Features | 2 Layers"
   ]
  },
  {
   "cell_type": "code",
   "execution_count": 26,
   "id": "3343afce",
   "metadata": {},
   "outputs": [],
   "source": [
    "model_3 = Sequential()\n",
    "model_3.add(Conv2D(filters=64, kernel_size=(5,5), activation='relu', input_shape=X_train_1.shape[1:]))\n",
    "model_3.add(Conv2D(filters=64, kernel_size=(3,3), activation='relu'))\n",
    "model_3.add(MaxPool2D(pool_size=(2, 2)))\n",
    "model_3.add(Dropout(rate=0.25))\n",
    "model_3.add(Flatten())\n",
    "model_3.add(Dense(256, activation='relu'))\n",
    "model_3.add(Dropout(rate=0.5))\n",
    "model_3.add(Dense(43, activation='softmax'))\n",
    "\n",
    "model_3.compile(loss='categorical_crossentropy', optimizer='adam', metrics=['accuracy'])"
   ]
  },
  {
   "cell_type": "markdown",
   "id": "30cc508b",
   "metadata": {},
   "source": [
    "#### Model 4 | 62 Features | 4 Layers"
   ]
  },
  {
   "cell_type": "code",
   "execution_count": 27,
   "id": "5d908f27",
   "metadata": {},
   "outputs": [],
   "source": [
    "model_4 = Sequential()\n",
    "model_4.add(Conv2D(filters=32, kernel_size=(5,5), activation='relu', input_shape=X_train_2.shape[1:]))\n",
    "model_4.add(Conv2D(filters=32, kernel_size=(5,5), activation='relu'))\n",
    "model_4.add(MaxPool2D(pool_size=(2, 2)))\n",
    "model_4.add(Dropout(rate=0.25))\n",
    "model_4.add(Conv2D(filters=64, kernel_size=(3, 3), activation='relu'))\n",
    "model_4.add(Conv2D(filters=64, kernel_size=(3, 3), activation='relu'))\n",
    "model_4.add(MaxPool2D(pool_size=(2, 2)))\n",
    "model_4.add(Dropout(rate=0.25))\n",
    "model_4.add(Flatten())\n",
    "model_4.add(Dense(256, activation='relu'))\n",
    "model_4.add(Dropout(rate=0.5))\n",
    "model_4.add(Dense(62, activation='softmax'))\n",
    "\n",
    "model_4.compile(loss='categorical_crossentropy', optimizer='adam', metrics=['accuracy'])"
   ]
  },
  {
   "cell_type": "markdown",
   "id": "d0922741",
   "metadata": {},
   "source": [
    "#### Model 5 | 62 Features | 3 Layers"
   ]
  },
  {
   "cell_type": "code",
   "execution_count": 28,
   "id": "ad9231e7",
   "metadata": {},
   "outputs": [],
   "source": [
    "model_5 = Sequential()\n",
    "model_5.add(Conv2D(filters=32, kernel_size=(5,5), activation='relu', input_shape=X_train_2.shape[1:]))\n",
    "model_5.add(Conv2D(filters=32, kernel_size=(5,5), activation='relu'))\n",
    "model_5.add(Conv2D(filters=32, kernel_size=(3, 3), activation='relu'))\n",
    "model_5.add(MaxPool2D(pool_size=(2, 2)))\n",
    "model_5.add(Dropout(rate=0.25))\n",
    "model_5.add(Flatten())\n",
    "model_5.add(Dense(256, activation='relu'))\n",
    "model_5.add(Dropout(rate=0.5))\n",
    "model_5.add(Dense(62, activation='softmax'))\n",
    "\n",
    "model_5.compile(loss='categorical_crossentropy', optimizer='adam', metrics=['accuracy'])"
   ]
  },
  {
   "cell_type": "markdown",
   "id": "7437e4b3",
   "metadata": {},
   "source": [
    "#### Model 6 | 62 Features | 2 Layers"
   ]
  },
  {
   "cell_type": "code",
   "execution_count": 29,
   "id": "d8898ad9",
   "metadata": {},
   "outputs": [],
   "source": [
    "model_6 = Sequential()\n",
    "model_6.add(Conv2D(filters=64, kernel_size=(5,5), activation='relu', input_shape=X_train_2.shape[1:]))\n",
    "model_6.add(Conv2D(filters=64, kernel_size=(3,3), activation='relu'))\n",
    "model_6.add(MaxPool2D(pool_size=(2, 2)))\n",
    "model_6.add(Dropout(rate=0.25))\n",
    "model_6.add(Flatten())\n",
    "model_6.add(Dense(256, activation='relu'))\n",
    "model_6.add(Dropout(rate=0.5))\n",
    "model_6.add(Dense(62, activation='softmax'))\n",
    "\n",
    "model_6.compile(loss='categorical_crossentropy', optimizer='adam', metrics=['accuracy'])"
   ]
  },
  {
   "cell_type": "markdown",
   "id": "da81f509",
   "metadata": {},
   "source": [
    "### Training CNN Models and Validation"
   ]
  },
  {
   "cell_type": "code",
   "execution_count": 35,
   "id": "ffc79b70",
   "metadata": {},
   "outputs": [
    {
     "name": "stdout",
     "output_type": "stream",
     "text": [
      "Epoch 1/15\n",
      "981/981 [==============================] - 45s 45ms/step - loss: 2.0920 - accuracy: 0.4493 - val_loss: 0.8078 - val_accuracy: 0.8131\n",
      "Epoch 2/15\n",
      "981/981 [==============================] - 43s 44ms/step - loss: 0.9635 - accuracy: 0.7148 - val_loss: 0.3703 - val_accuracy: 0.8939\n",
      "Epoch 3/15\n",
      "981/981 [==============================] - 47s 48ms/step - loss: 0.6402 - accuracy: 0.8058 - val_loss: 0.2747 - val_accuracy: 0.9288\n",
      "Epoch 4/15\n",
      "981/981 [==============================] - 56s 57ms/step - loss: 0.4657 - accuracy: 0.8602 - val_loss: 0.1431 - val_accuracy: 0.9580\n",
      "Epoch 5/15\n",
      "981/981 [==============================] - 47s 48ms/step - loss: 0.3982 - accuracy: 0.8832 - val_loss: 0.1395 - val_accuracy: 0.9615\n",
      "Epoch 6/15\n",
      "981/981 [==============================] - 50s 51ms/step - loss: 0.3379 - accuracy: 0.9030 - val_loss: 0.1482 - val_accuracy: 0.9498\n",
      "Epoch 7/15\n",
      "981/981 [==============================] - 47s 48ms/step - loss: 0.3160 - accuracy: 0.9074 - val_loss: 0.1176 - val_accuracy: 0.9688\n",
      "Epoch 8/15\n",
      "981/981 [==============================] - 48s 49ms/step - loss: 0.3116 - accuracy: 0.9109 - val_loss: 0.1648 - val_accuracy: 0.9523\n",
      "Epoch 9/15\n",
      "981/981 [==============================] - 48s 48ms/step - loss: 0.2812 - accuracy: 0.9203 - val_loss: 0.0890 - val_accuracy: 0.9745\n",
      "Epoch 10/15\n",
      "981/981 [==============================] - 47s 48ms/step - loss: 0.2747 - accuracy: 0.9233 - val_loss: 0.0727 - val_accuracy: 0.9787\n",
      "Epoch 11/15\n",
      "981/981 [==============================] - 47s 48ms/step - loss: 0.2729 - accuracy: 0.9241 - val_loss: 0.1128 - val_accuracy: 0.9698\n",
      "Epoch 12/15\n",
      "981/981 [==============================] - 48s 49ms/step - loss: 0.2528 - accuracy: 0.9291 - val_loss: 0.0881 - val_accuracy: 0.9746\n",
      "Epoch 13/15\n",
      "981/981 [==============================] - 47s 47ms/step - loss: 0.2445 - accuracy: 0.9318 - val_loss: 0.0624 - val_accuracy: 0.9820\n",
      "Epoch 14/15\n",
      "981/981 [==============================] - 48s 49ms/step - loss: 0.2264 - accuracy: 0.9370 - val_loss: 0.0802 - val_accuracy: 0.9767\n",
      "Epoch 15/15\n",
      "981/981 [==============================] - 47s 48ms/step - loss: 0.2462 - accuracy: 0.9332 - val_loss: 0.0829 - val_accuracy: 0.9756\n",
      "Epoch 1/15\n",
      "981/981 [==============================] - 52s 53ms/step - loss: 1.1747 - accuracy: 0.7331 - val_loss: 0.1831 - val_accuracy: 0.9652\n",
      "Epoch 2/15\n",
      "981/981 [==============================] - 51s 52ms/step - loss: 0.3124 - accuracy: 0.9203 - val_loss: 0.1404 - val_accuracy: 0.9629\n",
      "Epoch 3/15\n",
      "981/981 [==============================] - 52s 53ms/step - loss: 0.2324 - accuracy: 0.9404 - val_loss: 0.0817 - val_accuracy: 0.9827\n",
      "Epoch 4/15\n",
      "981/981 [==============================] - 53s 54ms/step - loss: 0.1851 - accuracy: 0.9519 - val_loss: 0.0863 - val_accuracy: 0.9790\n",
      "Epoch 5/15\n",
      "981/981 [==============================] - 52s 53ms/step - loss: 0.1603 - accuracy: 0.9596 - val_loss: 0.0723 - val_accuracy: 0.9844\n",
      "Epoch 6/15\n",
      "981/981 [==============================] - 54s 56ms/step - loss: 0.1650 - accuracy: 0.9602 - val_loss: 0.0540 - val_accuracy: 0.9893\n",
      "Epoch 7/15\n",
      "981/981 [==============================] - 52s 53ms/step - loss: 0.1494 - accuracy: 0.9635 - val_loss: 0.0606 - val_accuracy: 0.9869\n",
      "Epoch 8/15\n",
      "981/981 [==============================] - 52s 53ms/step - loss: 0.1471 - accuracy: 0.9667 - val_loss: 0.0748 - val_accuracy: 0.9869\n",
      "Epoch 9/15\n",
      "981/981 [==============================] - 60s 61ms/step - loss: 0.1493 - accuracy: 0.9661 - val_loss: 0.0803 - val_accuracy: 0.9842\n",
      "Epoch 10/15\n",
      "981/981 [==============================] - 64s 65ms/step - loss: 0.1352 - accuracy: 0.9704 - val_loss: 0.0481 - val_accuracy: 0.9904\n",
      "Epoch 11/15\n",
      "981/981 [==============================] - 61s 62ms/step - loss: 0.1385 - accuracy: 0.9708 - val_loss: 0.0669 - val_accuracy: 0.9901\n",
      "Epoch 12/15\n",
      "981/981 [==============================] - 59s 60ms/step - loss: 0.1338 - accuracy: 0.9711 - val_loss: 0.0511 - val_accuracy: 0.9904\n",
      "Epoch 13/15\n",
      "981/981 [==============================] - 51s 52ms/step - loss: 0.1097 - accuracy: 0.9759 - val_loss: 0.1012 - val_accuracy: 0.9850\n",
      "Epoch 14/15\n",
      "981/981 [==============================] - 52s 54ms/step - loss: 0.1127 - accuracy: 0.9774 - val_loss: 0.0525 - val_accuracy: 0.9906\n",
      "Epoch 15/15\n",
      "981/981 [==============================] - 52s 53ms/step - loss: 0.1641 - accuracy: 0.9687 - val_loss: 0.0513 - val_accuracy: 0.9903\n",
      "Epoch 1/15\n",
      "981/981 [==============================] - 61s 62ms/step - loss: 2.1419 - accuracy: 0.5014 - val_loss: 0.6432 - val_accuracy: 0.8540\n",
      "Epoch 2/15\n",
      "981/981 [==============================] - 58s 59ms/step - loss: 0.8343 - accuracy: 0.7713 - val_loss: 0.2734 - val_accuracy: 0.9346\n",
      "Epoch 3/15\n",
      "981/981 [==============================] - 60s 61ms/step - loss: 0.5281 - accuracy: 0.8587 - val_loss: 0.2538 - val_accuracy: 0.9441\n",
      "Epoch 4/15\n",
      "981/981 [==============================] - 59s 60ms/step - loss: 0.3991 - accuracy: 0.8930 - val_loss: 0.1641 - val_accuracy: 0.9626\n",
      "Epoch 5/15\n",
      "981/981 [==============================] - 63s 64ms/step - loss: 0.3615 - accuracy: 0.9065 - val_loss: 0.1042 - val_accuracy: 0.9769\n",
      "Epoch 6/15\n",
      "981/981 [==============================] - 56s 57ms/step - loss: 0.2917 - accuracy: 0.9263 - val_loss: 0.1001 - val_accuracy: 0.9791\n",
      "Epoch 7/15\n",
      "981/981 [==============================] - 55s 56ms/step - loss: 0.2654 - accuracy: 0.9343 - val_loss: 0.0811 - val_accuracy: 0.9827\n",
      "Epoch 8/15\n",
      "981/981 [==============================] - 55s 56ms/step - loss: 0.2492 - accuracy: 0.9424 - val_loss: 0.1068 - val_accuracy: 0.9762\n",
      "Epoch 9/15\n",
      "981/981 [==============================] - 58s 59ms/step - loss: 0.2525 - accuracy: 0.9458 - val_loss: 0.0811 - val_accuracy: 0.9838\n",
      "Epoch 10/15\n",
      "981/981 [==============================] - 60s 61ms/step - loss: 0.2458 - accuracy: 0.9483 - val_loss: 0.1303 - val_accuracy: 0.9711\n",
      "Epoch 11/15\n",
      "981/981 [==============================] - 59s 60ms/step - loss: 0.2046 - accuracy: 0.9543 - val_loss: 0.0786 - val_accuracy: 0.9872\n",
      "Epoch 12/15\n",
      "981/981 [==============================] - 58s 59ms/step - loss: 0.2183 - accuracy: 0.9534 - val_loss: 0.0676 - val_accuracy: 0.9888\n",
      "Epoch 13/15\n",
      "981/981 [==============================] - 58s 59ms/step - loss: 0.2201 - accuracy: 0.9564 - val_loss: 0.0656 - val_accuracy: 0.9875\n",
      "Epoch 14/15\n",
      "981/981 [==============================] - 58s 59ms/step - loss: 0.1960 - accuracy: 0.9624 - val_loss: 0.1043 - val_accuracy: 0.9796\n",
      "Epoch 15/15\n",
      "981/981 [==============================] - 63s 65ms/step - loss: 0.2273 - accuracy: 0.9575 - val_loss: 0.0702 - val_accuracy: 0.9875\n"
     ]
    }
   ],
   "source": [
    "epochs = 15\n",
    "\n",
    "def train_cnn_model(model, model_name, X_train, y_train, batch_size, epochs, X_test, y_test):\n",
    "    model.fit(X_train, y_train, batch_size=batch_size, epochs=epochs, validation_data=(X_test, y_test))\n",
    "    model.save(model_name)\n",
    "    return model\n",
    "\n",
    "history_1 = train_cnn_model(model_1, \"model_1.h5\", X_train_1, y_train_1, 32, epochs, X_test_1, y_test_1)\n",
    "history_2 = train_cnn_model(model_2, \"model_2.h5\", X_train_1, y_train_1, 32, epochs, X_test_1, y_test_1)\n",
    "history_3 = train_cnn_model(model_3, \"model_3.h5\", X_train_1, y_train_1, 32, epochs, X_test_1, y_test_1)\n",
    "#history_4 = train_cnn_model(model_4, \"model_4.h5\", X_train_2, y_train_2, 32, epochs, X_test_2, y_test_2)\n",
    "#history_5 = train_cnn_model(model_5, \"model_5.h5\", X_train_2, y_train_2, 32, epochs, X_test_2, y_test_2)\n",
    "#history_6 = train_cnn_model(model_6, \"model_6.h5\", X_train_2, y_train_2, 32, epochs, X_test_2, y_test_2)"
   ]
  },
  {
   "cell_type": "markdown",
   "id": "c1a81641",
   "metadata": {},
   "source": [
    "### Accuracy and Loss graphs by Epoch for CNN Models"
   ]
  },
  {
   "cell_type": "code",
   "execution_count": 36,
   "id": "18c69acd",
   "metadata": {},
   "outputs": [],
   "source": [
    "def plot_accuracy(history):\n",
    "    plt.figure(0)\n",
    "    plt.plot(history.history['accuracy'], label='training accuracy')\n",
    "    plt.plot(history.history['val_accuracy'], label='val accuracy')\n",
    "    plt.title('Accuracy')\n",
    "    plt.xlabel('epochs')\n",
    "    plt.ylabel('accuracy')\n",
    "    plt.legend()\n",
    "    plt.show()\n",
    "def plot_loss(history):\n",
    "    plt.figure(1)\n",
    "    plt.plot(history.history['loss'], label='training loss')\n",
    "    plt.plot(history.history['val_loss'], label='val loss')\n",
    "    plt.title('Loss')\n",
    "    plt.xlabel('epochs')\n",
    "    plt.ylabel('loss')\n",
    "    plt.legend()\n",
    "    plt.show()"
   ]
  },
  {
   "cell_type": "code",
   "execution_count": 37,
   "id": "abd961b3",
   "metadata": {},
   "outputs": [
    {
     "name": "stdout",
     "output_type": "stream",
     "text": [
      "Model 1 | 43 Features | 4 Layers\n"
     ]
    },
    {
     "data": {
      "image/png": "[encoded data removed]",
      "text/plain": [
       "<Figure size 432x288 with 1 Axes>"
      ]
     },
     "metadata": {
      "needs_background": "light"
     },
     "output_type": "display_data"
    },
    {
     "data": {
      "image/png": "[encoded data removed]",
      "text/plain": [
       "<Figure size 432x288 with 1 Axes>"
      ]
     },
     "metadata": {
      "needs_background": "light"
     },
     "output_type": "display_data"
    },
    {
     "name": "stdout",
     "output_type": "stream",
     "text": [
      "Model 2 | 43 Features | 3 Layers\n"
     ]
    },
    {
     "data": {
      "image/png": "[encoded data removed]",
      "text/plain": [
       "<Figure size 432x288 with 1 Axes>"
      ]
     },
     "metadata": {
      "needs_background": "light"
     },
     "output_type": "display_data"
    },
    {
     "data": {
      "image/png": "[encoded data removed]",
      "text/plain": [
       "<Figure size 432x288 with 1 Axes>"
      ]
     },
     "metadata": {
      "needs_background": "light"
     },
     "output_type": "display_data"
    },
    {
     "name": "stdout",
     "output_type": "stream",
     "text": [
      "Model 3 | 43 Features | 2 Layers\n"
     ]
    },
    {
     "data": {
      "image/png": "[encoded data removed]",
      "text/plain": [
       "<Figure size 432x288 with 1 Axes>"
      ]
     },
     "metadata": {
      "needs_background": "light"
     },
     "output_type": "display_data"
    },
    {
     "data": {
      "image/png": "[encoded data removed]",
      "text/plain": [
       "<Figure size 432x288 with 1 Axes>"
      ]
     },
     "metadata": {
      "needs_background": "light"
     },
     "output_type": "display_data"
    },
    {
     "name": "stdout",
     "output_type": "stream",
     "text": [
      "Model 4 | 62 Features | 4 Layers\n"
     ]
    },
    {
     "ename": "KeyError",
     "evalue": "'accuracy'",
     "output_type": "error",
     "traceback": [
      "\u001b[1;31m---------------------------------------------------------------------------\u001b[0m",
      "\u001b[1;31mKeyError\u001b[0m                                  Traceback (most recent call last)",
      "\u001b[1;32m<ipython-input-37-d04cc8bd4ed4>\u001b[0m in \u001b[0;36m<module>\u001b[1;34m\u001b[0m\n\u001b[0;32m      9\u001b[0m \u001b[0mplot_loss\u001b[0m\u001b[1;33m(\u001b[0m\u001b[0mhistory_3\u001b[0m\u001b[1;33m.\u001b[0m\u001b[0mhistory\u001b[0m\u001b[1;33m)\u001b[0m\u001b[1;33m\u001b[0m\u001b[1;33m\u001b[0m\u001b[0m\n\u001b[0;32m     10\u001b[0m \u001b[0mprint\u001b[0m\u001b[1;33m(\u001b[0m\u001b[1;34m\"Model 4 | 62 Features | 4 Layers\"\u001b[0m\u001b[1;33m)\u001b[0m\u001b[1;33m\u001b[0m\u001b[1;33m\u001b[0m\u001b[0m\n\u001b[1;32m---> 11\u001b[1;33m \u001b[0mplot_accuracy\u001b[0m\u001b[1;33m(\u001b[0m\u001b[0mhistory_4\u001b[0m\u001b[1;33m.\u001b[0m\u001b[0mhistory\u001b[0m\u001b[1;33m)\u001b[0m\u001b[1;33m\u001b[0m\u001b[1;33m\u001b[0m\u001b[0m\n\u001b[0m\u001b[0;32m     12\u001b[0m \u001b[0mplot_loss\u001b[0m\u001b[1;33m(\u001b[0m\u001b[0mhistory_4\u001b[0m\u001b[1;33m.\u001b[0m\u001b[0mhistory\u001b[0m\u001b[1;33m)\u001b[0m\u001b[1;33m\u001b[0m\u001b[1;33m\u001b[0m\u001b[0m\n\u001b[0;32m     13\u001b[0m \u001b[0mprint\u001b[0m\u001b[1;33m(\u001b[0m\u001b[1;34m\"Model 5 | 62 Features | 3 Layers\"\u001b[0m\u001b[1;33m)\u001b[0m\u001b[1;33m\u001b[0m\u001b[1;33m\u001b[0m\u001b[0m\n",
      "\u001b[1;32m<ipython-input-36-17131672e63f>\u001b[0m in \u001b[0;36mplot_accuracy\u001b[1;34m(history)\u001b[0m\n\u001b[0;32m      1\u001b[0m \u001b[1;32mdef\u001b[0m \u001b[0mplot_accuracy\u001b[0m\u001b[1;33m(\u001b[0m\u001b[0mhistory\u001b[0m\u001b[1;33m)\u001b[0m\u001b[1;33m:\u001b[0m\u001b[1;33m\u001b[0m\u001b[1;33m\u001b[0m\u001b[0m\n\u001b[0;32m      2\u001b[0m     \u001b[0mplt\u001b[0m\u001b[1;33m.\u001b[0m\u001b[0mfigure\u001b[0m\u001b[1;33m(\u001b[0m\u001b[1;36m0\u001b[0m\u001b[1;33m)\u001b[0m\u001b[1;33m\u001b[0m\u001b[1;33m\u001b[0m\u001b[0m\n\u001b[1;32m----> 3\u001b[1;33m     \u001b[0mplt\u001b[0m\u001b[1;33m.\u001b[0m\u001b[0mplot\u001b[0m\u001b[1;33m(\u001b[0m\u001b[0mhistory\u001b[0m\u001b[1;33m.\u001b[0m\u001b[0mhistory\u001b[0m\u001b[1;33m[\u001b[0m\u001b[1;34m'accuracy'\u001b[0m\u001b[1;33m]\u001b[0m\u001b[1;33m,\u001b[0m \u001b[0mlabel\u001b[0m\u001b[1;33m=\u001b[0m\u001b[1;34m'training accuracy'\u001b[0m\u001b[1;33m)\u001b[0m\u001b[1;33m\u001b[0m\u001b[1;33m\u001b[0m\u001b[0m\n\u001b[0m\u001b[0;32m      4\u001b[0m     \u001b[0mplt\u001b[0m\u001b[1;33m.\u001b[0m\u001b[0mplot\u001b[0m\u001b[1;33m(\u001b[0m\u001b[0mhistory\u001b[0m\u001b[1;33m.\u001b[0m\u001b[0mhistory\u001b[0m\u001b[1;33m[\u001b[0m\u001b[1;34m'val_accuracy'\u001b[0m\u001b[1;33m]\u001b[0m\u001b[1;33m,\u001b[0m \u001b[0mlabel\u001b[0m\u001b[1;33m=\u001b[0m\u001b[1;34m'val accuracy'\u001b[0m\u001b[1;33m)\u001b[0m\u001b[1;33m\u001b[0m\u001b[1;33m\u001b[0m\u001b[0m\n\u001b[0;32m      5\u001b[0m     \u001b[0mplt\u001b[0m\u001b[1;33m.\u001b[0m\u001b[0mtitle\u001b[0m\u001b[1;33m(\u001b[0m\u001b[1;34m'Accuracy'\u001b[0m\u001b[1;33m)\u001b[0m\u001b[1;33m\u001b[0m\u001b[1;33m\u001b[0m\u001b[0m\n",
      "\u001b[1;31mKeyError\u001b[0m: 'accuracy'"
     ]
    },
    {
     "data": {
      "text/plain": [
       "<Figure size 432x288 with 0 Axes>"
      ]
     },
     "metadata": {},
     "output_type": "display_data"
    }
   ],
   "source": [
    "print(\"Model 1 | 43 Features | 4 Layers\")\n",
    "plot_accuracy(history_1.history)\n",
    "plot_loss(history_1.history)\n",
    "print(\"Model 2 | 43 Features | 3 Layers\")\n",
    "plot_accuracy(history_2.history)\n",
    "plot_loss(history_2.history)\n",
    "print(\"Model 3 | 43 Features | 2 Layers\")\n",
    "plot_accuracy(history_3.history)\n",
    "plot_loss(history_3.history)\n",
    "print(\"Model 4 | 62 Features | 4 Layers\")\n",
    "plot_accuracy(history_4.history)\n",
    "plot_loss(history_4.history)\n",
    "print(\"Model 5 | 62 Features | 3 Layers\")\n",
    "plot_accuracy(history_5.history)\n",
    "plot_loss(history_5.history)\n",
    "print(\"Model 6 | 62 Features | 2 Layers\")\n",
    "plot_accuracy(history_6.history)\n",
    "plot_loss(history_6.history)"
   ]
  },
  {
   "cell_type": "markdown",
   "id": "049ebf84",
   "metadata": {},
   "source": [
    "### Accuracy of Models on Test Data"
   ]
  },
  {
   "cell_type": "code",
   "execution_count": 38,
   "id": "b12fbada",
   "metadata": {},
   "outputs": [
    {
     "name": "stdout",
     "output_type": "stream",
     "text": [
      "Model 1 | 43 Features | 4 Layers\n",
      "Accuracy: 94.68%\n",
      "\n",
      "Model 2 | 43 Features | 3 Layers\n",
      "Accuracy: 96.66%\n",
      "\n",
      "Model 3 | 43 Features | 2 Layers\n",
      "Accuracy: 94.64%\n",
      "\n",
      "Model 4 | 62 Features | 4 Layers\n",
      "Accuracy: 95.20%\n",
      "\n",
      "Model 5 | 62 Features | 3 Layers\n",
      "Accuracy: 95.24%\n",
      "\n",
      "Model 6 | 62 Features | 2 Layers\n",
      "Accuracy: 94.56%\n",
      "\n"
     ]
    }
   ],
   "source": [
    "def accuracy_scr(model, X_test, y_test):\n",
    "    pred = model.predict(X_test)\n",
    "    pred_classes = np.array([np.argmax(x) for x in pred])\n",
    "    return accuracy_score(y_test, pred_classes)\n",
    "\n",
    "print(\"Model 1 | 43 Features | 4 Layers\\nAccuracy: {0:.2f}%\\n\".format(100*accuracy_scr(model_1, test_data_1, test_classes_1)))\n",
    "print(\"Model 2 | 43 Features | 3 Layers\\nAccuracy: {0:.2f}%\\n\".format(100*accuracy_scr(model_2, test_data_1, test_classes_1)))\n",
    "print(\"Model 3 | 43 Features | 2 Layers\\nAccuracy: {0:.2f}%\\n\".format(100*accuracy_scr(model_3, test_data_1, test_classes_1)))\n",
    "print(\"Model 4 | 62 Features | 4 Layers\\nAccuracy: {0:.2f}%\\n\".format(100*accuracy_scr(model_4, test_data_2, test_classes_2)))\n",
    "print(\"Model 5 | 62 Features | 3 Layers\\nAccuracy: {0:.2f}%\\n\".format(100*accuracy_scr(model_5, test_data_2, test_classes_2)))\n",
    "print(\"Model 6 | 62 Features | 2 Layers\\nAccuracy: {0:.2f}%\\n\".format(100*accuracy_scr(model_6, test_data_2, test_classes_2)))"
   ]
  },
  {
   "cell_type": "markdown",
   "id": "02355e7a",
   "metadata": {},
   "source": [
    "### Testing on External Data (Images from Google)"
   ]
  },
  {
   "cell_type": "markdown",
   "id": "a4aa6721",
   "metadata": {},
   "source": [
    "### Test 1\n",
    "##### Models 1, 2, 3 | 43 Features | 4, 3, 2 Layers | 31367 Training Data Points"
   ]
  },
  {
   "cell_type": "code",
   "execution_count": 42,
   "id": "81c9fd7e",
   "metadata": {},
   "outputs": [
    {
     "name": "stdout",
     "output_type": "stream",
     "text": [
      "C:\\Users\\sahil\\Google Drive\\UT Austin\\College\\Fall\\Adv ML\\Project\n",
      "Error loading image\n",
      "Error loading image\n",
      "4-layer Model\n",
      "Actual Labels:\n",
      "[14 14 14 17 25 26]\n",
      "Predicted Labels:\n",
      "[17 14 13 12 12 17]\n",
      "Accuracy:\n",
      "0.16666666666666666\n",
      "\n",
      "3-layer Model\n",
      "Actual Labels:\n",
      "[14 14 14 17 25 26]\n",
      "Predicted Labels:\n",
      "[13 14 13 17 18 18]\n",
      "Accuracy:\n",
      "0.3333333333333333\n",
      "\n",
      "2-layer Model\n",
      "Actual Labels:\n",
      "[14 14 14 17 25 26]\n",
      "Predicted Labels:\n",
      "[12 14 12 25 18  1]\n",
      "Accuracy:\n",
      "0.16666666666666666\n"
     ]
    },
    {
     "name": "stderr",
     "output_type": "stream",
     "text": [
      "<ipython-input-42-d499e8cc8614>:19: DeprecationWarning: `np.int` is a deprecated alias for the builtin `int`. To silence this warning, use `int` by itself. Doing this will not modify any behavior and is safe. When replacing `np.int`, you may wish to use e.g. `np.int64` or `np.int32` to specify the precision. If you wish to review your current use, check the release note link for additional information.\n",
      "Deprecated in NumPy 1.20; for more details and guidance: https://numpy.org/devdocs/release/1.20.0-notes.html#deprecations\n",
      "  test_labels_1 = np.array(test_labels_1).astype(np.int)\n"
     ]
    }
   ],
   "source": [
    "test_data_1 = []\n",
    "test_labels_1 = []\n",
    "test_cur_path_1 = os.getcwd()\n",
    "print(cur_path_1)\n",
    "\n",
    "path = os.path.join(cur_path_1,'test_img')\n",
    "images = os.listdir(path)\n",
    "for img in images:\n",
    "    try:\n",
    "        image = Image.open(path+'/'+img)\n",
    "        image = image.resize((30,30))\n",
    "        image = np.array(image)\n",
    "        test_data_1.append(image)\n",
    "        test_labels_1.append(img.split('_')[0])\n",
    "    except:\n",
    "        print('Error loading image')\n",
    "\n",
    "test_data_1 = np.array(test_data_1)\n",
    "test_labels_1 = np.array(test_labels_1).astype(np.int)\n",
    "\n",
    "pred_test_11 = model_1.predict(test_data_1)\n",
    "pred_classes_test_11 = np.array([np.argmax(x) for x in pred_test_11])\n",
    "\n",
    "print(\"4-layer Model\")\n",
    "print(\"Actual Labels:\")\n",
    "print(test_labels_1)\n",
    "print(\"Predicted Labels:\")\n",
    "print(pred_classes_test_11)\n",
    "print(\"Accuracy:\")\n",
    "print(accuracy_score(test_labels_1, pred_classes_test_11))\n",
    "\n",
    "pred_test_12 = model_2.predict(test_data_1)\n",
    "pred_classes_test_12 = np.array([np.argmax(x) for x in pred_test_12])\n",
    "\n",
    "print(\"\\n3-layer Model\")\n",
    "print(\"Actual Labels:\")\n",
    "print(test_labels_1)\n",
    "print(\"Predicted Labels:\")\n",
    "print(pred_classes_test_12)\n",
    "print(\"Accuracy:\")\n",
    "print(accuracy_score(test_labels_1, pred_classes_test_12))\n",
    "\n",
    "pred_test_13 = model_3.predict(test_data_1)\n",
    "pred_classes_test_13 = np.array([np.argmax(x) for x in pred_test_13])\n",
    "\n",
    "print(\"\\n2-layer Model\")\n",
    "print(\"Actual Labels:\")\n",
    "print(test_labels_1)\n",
    "print(\"Predicted Labels:\")\n",
    "print(pred_classes_test_13)\n",
    "print(\"Accuracy:\")\n",
    "print(accuracy_score(test_labels_1, pred_classes_test_13))"
   ]
  },
  {
   "cell_type": "markdown",
   "id": "b9827ac5",
   "metadata": {},
   "source": [
    "### Test 2\n",
    "##### Models 4, 5, 6 | 62 Features | 4, 3, 2 Layers | 3660 Training Data Points"
   ]
  },
  {
   "cell_type": "code",
   "execution_count": 43,
   "id": "135512e6",
   "metadata": {},
   "outputs": [
    {
     "name": "stdout",
     "output_type": "stream",
     "text": [
      "C:\\Users\\sahil\\Google Drive\\UT Austin\\College\\Fall\\Adv ML\\Project\n",
      "Error loading image\n",
      "4-layer Model:\n",
      "Actual Labels:\n",
      "[10 11 21 21 21 22]\n",
      "Predicted Labels:\n",
      "[10 37 61 21 22  1]\n",
      "Accuracy:\n",
      "0.3333333333333333\n",
      "\n",
      "3-layer Model:\n",
      "Actual Labels:\n",
      "[10 11 21 21 21 22]\n",
      "Predicted Labels:\n",
      "[61  9 10 21 61 21]\n",
      "Accuracy:\n",
      "0.16666666666666666\n",
      "\n",
      "2-layer Model:\n",
      "Actual Labels:\n",
      "[10 11 21 21 21 22]\n",
      "Predicted Labels:\n",
      "[17 17 61 22 61 61]\n",
      "Accuracy:\n",
      "0.0\n"
     ]
    },
    {
     "name": "stderr",
     "output_type": "stream",
     "text": [
      "<ipython-input-43-6481bb85deff>:19: DeprecationWarning: `np.int` is a deprecated alias for the builtin `int`. To silence this warning, use `int` by itself. Doing this will not modify any behavior and is safe. When replacing `np.int`, you may wish to use e.g. `np.int64` or `np.int32` to specify the precision. If you wish to review your current use, check the release note link for additional information.\n",
      "Deprecated in NumPy 1.20; for more details and guidance: https://numpy.org/devdocs/release/1.20.0-notes.html#deprecations\n",
      "  test_labels_2 = np.array(test_labels_2).astype(np.int)\n"
     ]
    }
   ],
   "source": [
    "test_data_2 = []\n",
    "test_labels_2 = []\n",
    "test_cur_path_2 = os.getcwd()\n",
    "print(cur_path_2)\n",
    "\n",
    "path = os.path.join(cur_path_2,'test_img_2')\n",
    "images = os.listdir(path)\n",
    "for img in images:\n",
    "    try:\n",
    "        image = Image.open(path+'/'+img)\n",
    "        image = image.resize((30,30))\n",
    "        image = np.array(image)\n",
    "        test_data_2.append(image)\n",
    "        test_labels_2.append(img.split('_')[0])\n",
    "    except:\n",
    "        print('Error loading image')\n",
    "\n",
    "test_data_2 = np.array(test_data_2)\n",
    "test_labels_2 = np.array(test_labels_2).astype(np.int)\n",
    "\n",
    "pred_test_21 = model_4.predict(test_data_2)\n",
    "pred_classes_test_21 = np.array([np.argmax(x) for x in pred_test_21])\n",
    "\n",
    "print(\"4-layer Model:\")\n",
    "print(\"Actual Labels:\")\n",
    "print(test_labels_2)\n",
    "print(\"Predicted Labels:\")\n",
    "print(pred_classes_test_21)\n",
    "print(\"Accuracy:\")\n",
    "print(accuracy_score(test_labels_2, pred_classes_test_21))\n",
    "\n",
    "pred_test_22 = model_5.predict(test_data_2)\n",
    "pred_classes_test_22 = np.array([np.argmax(x) for x in pred_test_22])\n",
    "\n",
    "print(\"\\n3-layer Model:\")\n",
    "print(\"Actual Labels:\")\n",
    "print(test_labels_2)\n",
    "print(\"Predicted Labels:\")\n",
    "print(pred_classes_test_22)\n",
    "print(\"Accuracy:\")\n",
    "print(accuracy_score(test_labels_2, pred_classes_test_22))\n",
    "\n",
    "pred_test_23 = model_6.predict(test_data_2)\n",
    "pred_classes_test_23 = np.array([np.argmax(x) for x in pred_test_23])\n",
    "\n",
    "print(\"\\n2-layer Model:\")\n",
    "print(\"Actual Labels:\")\n",
    "print(test_labels_2)\n",
    "print(\"Predicted Labels:\")\n",
    "print(pred_classes_test_23)\n",
    "print(\"Accuracy:\")\n",
    "print(accuracy_score(test_labels_2, pred_classes_test_23))"
   ]
  }
 ],
 "metadata": {
  "kernelspec": {
   "display_name": "Python 3",
   "language": "python",
   "name": "python3"
  },
  "language_info": {
   "codemirror_mode": {
    "name": "ipython",
    "version": 3
   },
   "file_extension": ".py",
   "mimetype": "text/x-python",
   "name": "python",
   "nbconvert_exporter": "python",
   "pygments_lexer": "ipython3",
   "version": "3.8.8"
  }
 },
 "nbformat": 4,
 "nbformat_minor": 5
}
